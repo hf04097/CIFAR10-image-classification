{
  "nbformat": 4,
  "nbformat_minor": 0,
  "metadata": {
    "colab": {
      "name": "CIFAR-10 Describing and Loading dataset.ipynb",
      "provenance": [],
      "toc_visible": true
    },
    "kernelspec": {
      "name": "python3",
      "display_name": "Python 3"
    },
    "accelerator": "GPU"
  },
  "cells": [
    {
      "cell_type": "markdown",
      "metadata": {
        "id": "Y-P5FQ0fKztX",
        "colab_type": "text"
      },
      "source": [
        "#Feed Forward Neural Network (ANN)\n",
        "\n",
        "I tried many architectures for this and with the architecture below and with standardized imagedataset I was able to reach an accuracy slightly above **55%**. <br>\n",
        "\n",
        "I will like ko share some of the architectures I tried.\n",
        "The first architecture I tried on it had 4 hidden layers of 1500,768,384,192 neurons respectively and each layer had a l2 regularization with lmbda = 0.01 however this gave me a 10% accuracy only without the dataset being normalized doing  and it gave a 48% accuracy with normalization where it was normalized doing (dataset - 255)/255. <br>\n",
        "\n",
        "When I tried it with normalied input and three hidden layers each with 600,400 and 100 neurons respectively and the first two having a droput of 0.2 after the first two layers and ran it for 80 epoch I reached an accuracy of 49%.\n",
        "\n",
        "However, the architecture from which I was able to get max accuracy that is the input is standardized and there are 3 hidden layers of 1024,256 and 100 neurons repsectively with the first two hidden layers having a dropout of 0.17 and this being run with 50 epochs.\n"
      ]
    },
    {
      "cell_type": "code",
      "metadata": {
        "id": "9_uw6_6zGkRf",
        "colab_type": "code",
        "colab": {
          "base_uri": "https://localhost:8080/",
          "height": 34
        },
        "outputId": "7b02ab1d-81b5-4c24-d40c-8dff5bb218c1"
      },
      "source": [
        "%tensorflow_version 1.x\n",
        "import numpy as np\n",
        "from keras.datasets import cifar10\n",
        "import matplotlib.pyplot as plt\n",
        "from keras.utils import to_categorical\n",
        "import cv2"
      ],
      "execution_count": 2,
      "outputs": [
        {
          "output_type": "stream",
          "text": [
            "TensorFlow is already loaded. Please restart the runtime to change versions.\n"
          ],
          "name": "stdout"
        }
      ]
    },
    {
      "cell_type": "markdown",
      "metadata": {
        "id": "5vo69VNXQcR3",
        "colab_type": "text"
      },
      "source": [
        "Loading Dataset"
      ]
    },
    {
      "cell_type": "code",
      "metadata": {
        "id": "eFSemQQJQFZP",
        "colab_type": "code",
        "colab": {
          "base_uri": "https://localhost:8080/",
          "height": 68
        },
        "outputId": "80cf6eff-5a7b-47a5-b707-7968343c8654"
      },
      "source": [
        "(X_train, y_train), (X_test, y_test) = cifar10.load_data()   #loading the data\n",
        "print(X_train.shape,y_train.shape,X_test.shape,y_test.shape)  #shapes of test and train"
      ],
      "execution_count": 3,
      "outputs": [
        {
          "output_type": "stream",
          "text": [
            "Downloading data from https://www.cs.toronto.edu/~kriz/cifar-10-python.tar.gz\n",
            "170500096/170498071 [==============================] - 11s 0us/step\n",
            "(50000, 32, 32, 3) (50000, 1) (10000, 32, 32, 3) (10000, 1)\n"
          ],
          "name": "stdout"
        }
      ]
    },
    {
      "cell_type": "code",
      "metadata": {
        "id": "uBRxyZMjQKXR",
        "colab_type": "code",
        "colab": {
          "base_uri": "https://localhost:8080/",
          "height": 34
        },
        "outputId": "2986f1b1-3848-4013-da1e-fed1f902a24c"
      },
      "source": [
        "categorical_y_train = to_categorical(y_train)\n",
        "len(categorical_y_train[0])   # number of classes"
      ],
      "execution_count": 4,
      "outputs": [
        {
          "output_type": "execute_result",
          "data": {
            "text/plain": [
              "10"
            ]
          },
          "metadata": {
            "tags": []
          },
          "execution_count": 4
        }
      ]
    },
    {
      "cell_type": "code",
      "metadata": {
        "id": "iKdkrFZPQNcL",
        "colab_type": "code",
        "colab": {
          "base_uri": "https://localhost:8080/",
          "height": 1000
        },
        "outputId": "965dd52d-a8f3-4dd7-94c4-dde7a1179f4c"
      },
      "source": [
        "plt.imshow(X_train[1],interpolation=\"none\")\n",
        "plt.axis('off')\n",
        "plt.show()\n",
        "plt.imshow(X_train[10])\n",
        "plt.axis('off')\n",
        "plt.show()\n",
        "plt.imshow(X_train[100])\n",
        "plt.axis('off')\n",
        "plt.show()\n",
        "plt.imshow(X_train[1000])\n",
        "plt.axis('off')\n",
        "plt.show()\n",
        "plt.imshow(X_train[5000])\n",
        "plt.axis('off')\n",
        "plt.show()\n",
        "plt.imshow(X_train[25000])\n",
        "plt.axis('off')\n",
        "plt.show()\n",
        "plt.imshow(X_train[49000])\n",
        "plt.axis('off')\n",
        "plt.show()\n"
      ],
      "execution_count": 30,
      "outputs": [
        {
          "output_type": "display_data",
          "data": {
            "image/png": "[encoded data removed]",
            "text/plain": [
              "<Figure size 432x288 with 1 Axes>"
            ]
          },
          "metadata": {
            "tags": [],
            "needs_background": "light"
          }
        },
        {
          "output_type": "display_data",
          "data": {
            "image/png": "[encoded data removed]",
            "text/plain": [
              "<Figure size 432x288 with 1 Axes>"
            ]
          },
          "metadata": {
            "tags": [],
            "needs_background": "light"
          }
        },
        {
          "output_type": "display_data",
          "data": {
            "image/png": "[encoded data removed]",
            "text/plain": [
              "<Figure size 432x288 with 1 Axes>"
            ]
          },
          "metadata": {
            "tags": [],
            "needs_background": "light"
          }
        },
        {
          "output_type": "display_data",
          "data": {
            "image/png": "[encoded data removed]",
            "text/plain": [
              "<Figure size 432x288 with 1 Axes>"
            ]
          },
          "metadata": {
            "tags": [],
            "needs_background": "light"
          }
        },
        {
          "output_type": "display_data",
          "data": {
            "image/png": "[encoded data removed]",
            "text/plain": [
              "<Figure size 432x288 with 1 Axes>"
            ]
          },
          "metadata": {
            "tags": [],
            "needs_background": "light"
          }
        },
        {
          "output_type": "display_data",
          "data": {
            "image/png": "[encoded data removed]",
            "text/plain": [
              "<Figure size 432x288 with 1 Axes>"
            ]
          },
          "metadata": {
            "tags": [],
            "needs_background": "light"
          }
        },
        {
          "output_type": "display_data",
          "data": {
            "image/png": "[encoded data removed]",
            "text/plain": [
              "<Figure size 432x288 with 1 Axes>"
            ]
          },
          "metadata": {
            "tags": [],
            "needs_background": "light"
          }
        }
      ]
    },
    {
      "cell_type": "code",
      "metadata": {
        "id": "uFsgKJtYHGcV",
        "colab_type": "code",
        "colab": {}
      },
      "source": [
        "from keras.utils import to_categorical\n",
        "# Converting y_train and y_test to binary class matrix.\n",
        "\n",
        "y_train = to_categorical(y_train)\n",
        "y_test = to_categorical(y_test)\n"
      ],
      "execution_count": 0,
      "outputs": []
    },
    {
      "cell_type": "code",
      "metadata": {
        "id": "Se9M8KliVDXB",
        "colab_type": "code",
        "colab": {
          "base_uri": "https://localhost:8080/",
          "height": 34
        },
        "outputId": "bf4e9509-eb8c-4430-b006-2110462d8a06"
      },
      "source": [
        "#standardizing data\n",
        "X_train_normalize= (X_train - np.mean(X_train))/np.std(X_train)\n",
        "X_test_normalize = (X_test - np.mean(X_test))/np.std(X_test)\n",
        "\n",
        "print(X_train_normalize.shape,X_test_normalize.T.shape)"
      ],
      "execution_count": 6,
      "outputs": [
        {
          "output_type": "stream",
          "text": [
            "(50000, 32, 32, 3) (3, 32, 32, 10000)\n"
          ],
          "name": "stdout"
        }
      ]
    },
    {
      "cell_type": "code",
      "metadata": {
        "id": "oLmmtBa-VW7s",
        "colab_type": "code",
        "colab": {
          "base_uri": "https://localhost:8080/",
          "height": 1000
        },
        "outputId": "1f650824-96eb-4822-c58f-ee7de4491c01"
      },
      "source": [
        "#feed forward network\n",
        "\n",
        "from keras.models import Sequential\n",
        "from keras.layers import Input, Dense, Flatten, Activation, Dropout\n",
        "from keras import regularizers\n",
        "from keras.optimizers import Adam\n",
        "\n",
        "input_shape = (X_train_normalize[0].flatten()).shape\n",
        "\n",
        "model = Sequential()\n",
        "\n",
        "model.add(Flatten())\n",
        "\n",
        "model.add(Dense(1024,input_shape = input_shape, activation=\"relu\",kernel_regularizer=regularizers.l2(0.01)))\n",
        "model.add(Dropout(0.17))\n",
        "model.add(Dense(256, activation=\"relu\",kernel_regularizer=regularizers.l2(0.01)))\n",
        "model.add(Dropout(0.17))\n",
        "model.add(Dense(100,  activation=\"relu\"))\n",
        "model.add(Dense(len(y_train[0])))  # where len(y_train[0] is 10)\n",
        "model.add(Activation(\"softmax\"))\n",
        "\n",
        "Adam = Adam(lr = 0.0001)\n",
        "model.compile(optimizer = Adam, loss = 'categorical_crossentropy', metrics = ['acc'])\n",
        "hist = model.fit(X_train_normalize, y_train, epochs = 50, batch_size = 32, validation_data = (X_test_normalize,y_test))\n"
      ],
      "execution_count": 7,
      "outputs": [
        {
          "output_type": "stream",
          "text": [
            "Train on 50000 samples, validate on 10000 samples\n",
            "Epoch 1/50\n",
            "50000/50000 [==============================] - 18s 363us/step - loss: 11.3184 - acc: 0.3791 - val_loss: 5.1054 - val_acc: 0.4413\n",
            "Epoch 2/50\n",
            "50000/50000 [==============================] - 16s 322us/step - loss: 3.3969 - acc: 0.4348 - val_loss: 2.4028 - val_acc: 0.4600\n",
            "Epoch 3/50\n",
            "50000/50000 [==============================] - 16s 320us/step - loss: 2.1381 - acc: 0.4534 - val_loss: 1.9086 - val_acc: 0.4735\n",
            "Epoch 4/50\n",
            "50000/50000 [==============================] - 16s 322us/step - loss: 1.8600 - acc: 0.4599 - val_loss: 1.7568 - val_acc: 0.4813\n",
            "Epoch 5/50\n",
            "50000/50000 [==============================] - 16s 321us/step - loss: 1.7512 - acc: 0.4714 - val_loss: 1.7102 - val_acc: 0.4725\n",
            "Epoch 6/50\n",
            "50000/50000 [==============================] - 16s 321us/step - loss: 1.6897 - acc: 0.4808 - val_loss: 1.6396 - val_acc: 0.4918\n",
            "Epoch 7/50\n",
            "50000/50000 [==============================] - 16s 321us/step - loss: 1.6550 - acc: 0.4895 - val_loss: 1.6329 - val_acc: 0.4964\n",
            "Epoch 8/50\n",
            "50000/50000 [==============================] - 16s 321us/step - loss: 1.6308 - acc: 0.4955 - val_loss: 1.6212 - val_acc: 0.5007\n",
            "Epoch 9/50\n",
            "50000/50000 [==============================] - 16s 321us/step - loss: 1.6121 - acc: 0.5022 - val_loss: 1.6028 - val_acc: 0.5011\n",
            "Epoch 10/50\n",
            "50000/50000 [==============================] - 16s 330us/step - loss: 1.5965 - acc: 0.5065 - val_loss: 1.5687 - val_acc: 0.5128\n",
            "Epoch 11/50\n",
            "50000/50000 [==============================] - 16s 322us/step - loss: 1.5804 - acc: 0.5122 - val_loss: 1.5602 - val_acc: 0.5216\n",
            "Epoch 12/50\n",
            "50000/50000 [==============================] - 16s 324us/step - loss: 1.5677 - acc: 0.5125 - val_loss: 1.5915 - val_acc: 0.5029\n",
            "Epoch 13/50\n",
            "50000/50000 [==============================] - 16s 324us/step - loss: 1.5584 - acc: 0.5187 - val_loss: 1.5453 - val_acc: 0.5195\n",
            "Epoch 14/50\n",
            "50000/50000 [==============================] - 16s 322us/step - loss: 1.5510 - acc: 0.5184 - val_loss: 1.5606 - val_acc: 0.5102\n",
            "Epoch 15/50\n",
            "50000/50000 [==============================] - 16s 322us/step - loss: 1.5371 - acc: 0.5250 - val_loss: 1.5601 - val_acc: 0.5186\n",
            "Epoch 16/50\n",
            "50000/50000 [==============================] - 16s 321us/step - loss: 1.5283 - acc: 0.5264 - val_loss: 1.5310 - val_acc: 0.5294\n",
            "Epoch 17/50\n",
            "50000/50000 [==============================] - 16s 321us/step - loss: 1.5196 - acc: 0.5309 - val_loss: 1.5232 - val_acc: 0.5317\n",
            "Epoch 18/50\n",
            "50000/50000 [==============================] - 16s 319us/step - loss: 1.5081 - acc: 0.5330 - val_loss: 1.5191 - val_acc: 0.5335\n",
            "Epoch 19/50\n",
            "50000/50000 [==============================] - 16s 320us/step - loss: 1.5007 - acc: 0.5380 - val_loss: 1.5166 - val_acc: 0.5266\n",
            "Epoch 20/50\n",
            "50000/50000 [==============================] - 16s 320us/step - loss: 1.4942 - acc: 0.5381 - val_loss: 1.5358 - val_acc: 0.5230\n",
            "Epoch 21/50\n",
            "50000/50000 [==============================] - 16s 320us/step - loss: 1.4871 - acc: 0.5423 - val_loss: 1.5082 - val_acc: 0.5350\n",
            "Epoch 22/50\n",
            "50000/50000 [==============================] - 16s 319us/step - loss: 1.4808 - acc: 0.5453 - val_loss: 1.5049 - val_acc: 0.5322\n",
            "Epoch 23/50\n",
            "50000/50000 [==============================] - 16s 321us/step - loss: 1.4731 - acc: 0.5459 - val_loss: 1.5109 - val_acc: 0.5297\n",
            "Epoch 24/50\n",
            "50000/50000 [==============================] - 16s 320us/step - loss: 1.4687 - acc: 0.5487 - val_loss: 1.4995 - val_acc: 0.5376\n",
            "Epoch 25/50\n",
            "50000/50000 [==============================] - 16s 319us/step - loss: 1.4616 - acc: 0.5523 - val_loss: 1.4879 - val_acc: 0.5344\n",
            "Epoch 26/50\n",
            "50000/50000 [==============================] - 16s 319us/step - loss: 1.4589 - acc: 0.5503 - val_loss: 1.4867 - val_acc: 0.5396\n",
            "Epoch 27/50\n",
            "50000/50000 [==============================] - 16s 320us/step - loss: 1.4539 - acc: 0.5536 - val_loss: 1.4658 - val_acc: 0.5466\n",
            "Epoch 28/50\n",
            "50000/50000 [==============================] - 16s 319us/step - loss: 1.4487 - acc: 0.5565 - val_loss: 1.4782 - val_acc: 0.5415\n",
            "Epoch 29/50\n",
            "50000/50000 [==============================] - 16s 323us/step - loss: 1.4454 - acc: 0.5556 - val_loss: 1.4934 - val_acc: 0.5385\n",
            "Epoch 30/50\n",
            "50000/50000 [==============================] - 16s 329us/step - loss: 1.4444 - acc: 0.5562 - val_loss: 1.4834 - val_acc: 0.5390\n",
            "Epoch 31/50\n",
            "50000/50000 [==============================] - 16s 321us/step - loss: 1.4351 - acc: 0.5589 - val_loss: 1.4722 - val_acc: 0.5462\n",
            "Epoch 32/50\n",
            "50000/50000 [==============================] - 16s 324us/step - loss: 1.4313 - acc: 0.5604 - val_loss: 1.4625 - val_acc: 0.5512\n",
            "Epoch 33/50\n",
            "50000/50000 [==============================] - 16s 320us/step - loss: 1.4306 - acc: 0.5598 - val_loss: 1.4768 - val_acc: 0.5451\n",
            "Epoch 34/50\n",
            "50000/50000 [==============================] - 16s 320us/step - loss: 1.4268 - acc: 0.5627 - val_loss: 1.4735 - val_acc: 0.5414\n",
            "Epoch 35/50\n",
            "50000/50000 [==============================] - 16s 320us/step - loss: 1.4213 - acc: 0.5670 - val_loss: 1.4676 - val_acc: 0.5512\n",
            "Epoch 36/50\n",
            "50000/50000 [==============================] - 16s 320us/step - loss: 1.4194 - acc: 0.5655 - val_loss: 1.4500 - val_acc: 0.5537\n",
            "Epoch 37/50\n",
            "50000/50000 [==============================] - 16s 318us/step - loss: 1.4202 - acc: 0.5643 - val_loss: 1.4697 - val_acc: 0.5515\n",
            "Epoch 38/50\n",
            "50000/50000 [==============================] - 16s 320us/step - loss: 1.4162 - acc: 0.5682 - val_loss: 1.4604 - val_acc: 0.5474\n",
            "Epoch 39/50\n",
            "50000/50000 [==============================] - 16s 320us/step - loss: 1.4175 - acc: 0.5681 - val_loss: 1.4749 - val_acc: 0.5494\n",
            "Epoch 40/50\n",
            "50000/50000 [==============================] - 16s 322us/step - loss: 1.4086 - acc: 0.5703 - val_loss: 1.4770 - val_acc: 0.5426\n",
            "Epoch 41/50\n",
            "50000/50000 [==============================] - 16s 329us/step - loss: 1.4092 - acc: 0.5699 - val_loss: 1.4593 - val_acc: 0.5536\n",
            "Epoch 42/50\n",
            "50000/50000 [==============================] - 16s 321us/step - loss: 1.4022 - acc: 0.5705 - val_loss: 1.4794 - val_acc: 0.5447\n",
            "Epoch 43/50\n",
            "50000/50000 [==============================] - 16s 324us/step - loss: 1.4068 - acc: 0.5715 - val_loss: 1.4870 - val_acc: 0.5449\n",
            "Epoch 44/50\n",
            "50000/50000 [==============================] - 16s 329us/step - loss: 1.4044 - acc: 0.5721 - val_loss: 1.4726 - val_acc: 0.5464\n",
            "Epoch 45/50\n",
            "50000/50000 [==============================] - 16s 320us/step - loss: 1.4044 - acc: 0.5725 - val_loss: 1.4653 - val_acc: 0.5470\n",
            "Epoch 46/50\n",
            "50000/50000 [==============================] - 16s 320us/step - loss: 1.3999 - acc: 0.5742 - val_loss: 1.4713 - val_acc: 0.5501\n",
            "Epoch 47/50\n",
            "50000/50000 [==============================] - 16s 318us/step - loss: 1.3947 - acc: 0.5778 - val_loss: 1.4814 - val_acc: 0.5419\n",
            "Epoch 48/50\n",
            "50000/50000 [==============================] - 16s 320us/step - loss: 1.3945 - acc: 0.5774 - val_loss: 1.4532 - val_acc: 0.5519\n",
            "Epoch 49/50\n",
            "50000/50000 [==============================] - 17s 338us/step - loss: 1.3952 - acc: 0.5744 - val_loss: 1.4651 - val_acc: 0.5499\n",
            "Epoch 50/50\n",
            "50000/50000 [==============================] - 16s 326us/step - loss: 1.3937 - acc: 0.5794 - val_loss: 1.4578 - val_acc: 0.5510\n"
          ],
          "name": "stdout"
        }
      ]
    },
    {
      "cell_type": "code",
      "metadata": {
        "id": "H4YXVcbtVanY",
        "colab_type": "code",
        "colab": {
          "base_uri": "https://localhost:8080/",
          "height": 590
        },
        "outputId": "4c2be80c-3abb-45bb-fea4-b5e7e16b9ebc"
      },
      "source": [
        "#Plot both the training loss as well as the validation loss on the same plot\n",
        "plt.plot(hist.history['loss'])\n",
        "plt.plot(hist.history['val_loss'])\n",
        "plt.title('Model loss')\n",
        "plt.ylabel('Loss')\n",
        "plt.xlabel('Epoch')\n",
        "plt.legend(['Train', 'Test'], loc='upper left')\n",
        "plt.show()\n",
        "\n",
        "#Plot both the training accuracy as well as the validation accuracy on the same plot\n",
        "plt.plot(hist.history['acc'])\n",
        "plt.plot(hist.history['val_acc'])\n",
        "plt.title('Model accuracy')\n",
        "plt.ylabel('Accuracy')\n",
        "plt.xlabel('Epoch')\n",
        "plt.legend(['Train', 'Test'], loc='upper left')\n",
        "plt.show()\n",
        "\n",
        "print(hist.history['val_acc'].index(max(hist.history['val_acc'])))"
      ],
      "execution_count": 8,
      "outputs": [
        {
          "output_type": "display_data",
          "data": {
            "image/png": "[encoded data removed]",
            "text/plain": [
              "<Figure size 432x288 with 1 Axes>"
            ]
          },
          "metadata": {
            "tags": [],
            "needs_background": "light"
          }
        },
        {
          "output_type": "display_data",
          "data": {
            "image/png": "[encoded data removed]",
            "text/plain": [
              "<Figure size 432x288 with 1 Axes>"
            ]
          },
          "metadata": {
            "tags": [],
            "needs_background": "light"
          }
        },
        {
          "output_type": "stream",
          "text": [
            "35\n"
          ],
          "name": "stdout"
        }
      ]
    }
  ]
}